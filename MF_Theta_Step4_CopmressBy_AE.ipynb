{
  "nbformat": 4,
  "nbformat_minor": 0,
  "metadata": {
    "colab": {
      "name": "MF_Theta_Step4_CopmressBy_AE.ipynb",
      "provenance": [],
      "collapsed_sections": []
    },
    "kernelspec": {
      "name": "python3",
      "display_name": "Python 3"
    }
  },
  "cells": [
    {
      "cell_type": "code",
      "metadata": {
        "id": "Nqhzg98s8S6M"
      },
      "source": [
        "import numpy as np\n",
        "import sklearn\n",
        "from sklearn.model_selection import train_test_split\n",
        "from keras.optimizers import Adam, RMSprop\n",
        "from keras.layers import Input, Dense, Embedding, Flatten, Dropout, merge, Activation, BatchNormalization, LeakyReLU\n",
        "from keras.models import Model\n",
        "from keras.regularizers import l2"
      ],
      "execution_count": null,
      "outputs": []
    },
    {
      "cell_type": "code",
      "metadata": {
        "id": "9VaAbgfMxyUe"
      },
      "source": [
        "import keras\n",
        "from keras.datasets import mnist\n",
        "from keras.models import Sequential, Model\n",
        "from keras.layers import Dense\n",
        "from keras.optimizers import Adam"
      ],
      "execution_count": null,
      "outputs": []
    },
    {
      "cell_type": "code",
      "metadata": {
        "id": "zJwlSt6D94OR",
        "colab": {
          "resources": {
            "http://localhost:8080/nbextensions/google.colab/files.js": {
              "data": "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",
              "ok": true,
              "headers": [
                [
                  "content-type",
                  "application/javascript"
                ]
              ],
              "status": 200,
              "status_text": ""
            }
          },
          "base_uri": "https://localhost:8080/",
          "height": 73
        },
        "outputId": "d368ce28-66ec-4f6e-d773-664f0bc0fe9e"
      },
      "source": [
        "#read the plot_vec_after_BERT_1682_768.npy file\n",
        "from google.colab import files\n",
        "uploaded = files.upload()"
      ],
      "execution_count": null,
      "outputs": [
        {
          "output_type": "display_data",
          "data": {
            "text/html": [
              "\n",
              "     <input type=\"file\" id=\"files-1cc2461a-db91-4b2c-8a72-2e2e9fe0368b\" name=\"files[]\" multiple disabled\n",
              "        style=\"border:none\" />\n",
              "     <output id=\"result-1cc2461a-db91-4b2c-8a72-2e2e9fe0368b\">\n",
              "      Upload widget is only available when the cell has been executed in the\n",
              "      current browser session. Please rerun this cell to enable.\n",
              "      </output>\n",
              "      <script src=\"/nbextensions/google.colab/files.js\"></script> "
            ],
            "text/plain": [
              "<IPython.core.display.HTML object>"
            ]
          },
          "metadata": {
            "tags": []
          }
        },
        {
          "output_type": "stream",
          "text": [
            "Saving plot_vec_movilelense1M_Genres_director_title_after_CountVectorize.npy to plot_vec_movilelense1M_Genres_director_title_after_CountVectorize.npy\n"
          ],
          "name": "stdout"
        }
      ]
    },
    {
      "cell_type": "code",
      "metadata": {
        "id": "IIK-OU8tAiJO"
      },
      "source": [
        "plot_vec=np.load('plot_vec_movilelense1M_Genres_director_title_after_CountVectorize.npy',allow_pickle=True)"
      ],
      "execution_count": null,
      "outputs": []
    },
    {
      "cell_type": "code",
      "metadata": {
        "id": "l5VPlc8BDFIm"
      },
      "source": [
        "plot_vec=plot_vec.astype(np.float32)"
      ],
      "execution_count": null,
      "outputs": []
    },
    {
      "cell_type": "code",
      "metadata": {
        "colab": {
          "base_uri": "https://localhost:8080/"
        },
        "id": "SZhWlJQZe2EJ",
        "outputId": "b117ff16-b925-40ad-9cf4-7f924212ed46"
      },
      "source": [
        "print(plot_vec.shape)"
      ],
      "execution_count": null,
      "outputs": [
        {
          "output_type": "stream",
          "text": [
            "(3883, 3883)\n"
          ],
          "name": "stdout"
        }
      ]
    },
    {
      "cell_type": "code",
      "metadata": {
        "colab": {
          "base_uri": "https://localhost:8080/"
        },
        "id": "WQ9chd9AELxZ",
        "outputId": "0dce4d1c-d675-415c-b32b-2cc30f3ecd59"
      },
      "source": [
        "print(plot_vec.shape)"
      ],
      "execution_count": null,
      "outputs": [
        {
          "output_type": "stream",
          "text": [
            "(1682, 768)\n"
          ],
          "name": "stdout"
        }
      ]
    },
    {
      "cell_type": "code",
      "metadata": {
        "id": "HcMpfe34CXex"
      },
      "source": [
        ""
      ],
      "execution_count": null,
      "outputs": []
    },
    {
      "cell_type": "code",
      "metadata": {
        "id": "hnVs45-5_jQR"
      },
      "source": [
        "from scipy.spatial import distance"
      ],
      "execution_count": null,
      "outputs": []
    },
    {
      "cell_type": "code",
      "metadata": {
        "colab": {
          "base_uri": "https://localhost:8080/"
        },
        "id": "2i1mdSSa3NMm",
        "outputId": "7935e87e-758d-400e-c636-bd600bc58175"
      },
      "source": [
        "\n",
        "for i in range(len(plot_vec)):\n",
        "  min=10\n",
        "  d12 = distance.euclidean(plot_vec[1644], plot_vec[i])\n",
        "  if(d12<2.5):\n",
        "    print(i,d12)"
      ],
      "execution_count": null,
      "outputs": [
        {
          "output_type": "stream",
          "text": [
            "410 2.4494898319244385\n",
            "483 2.4494898319244385\n",
            "785 2.4494898319244385\n",
            "823 2.4494898319244385\n",
            "942 2.2360680103302\n",
            "978 2.2360680103302\n",
            "1101 2.4494898319244385\n",
            "1139 2.2360680103302\n",
            "1183 2.2360680103302\n",
            "1247 2.0\n",
            "1311 2.4494898319244385\n",
            "1403 2.4494898319244385\n",
            "1417 2.2360680103302\n",
            "1483 1.7320507764816284\n",
            "1644 0.0\n",
            "1649 0.0\n"
          ],
          "name": "stdout"
        }
      ]
    },
    {
      "cell_type": "code",
      "metadata": {
        "id": "FP4pY1Ea9YT5"
      },
      "source": [
        "train, test = train_test_split(plot_vec,\n",
        "                                 \n",
        "                                 test_size=0.2,\n",
        "                                 random_state=999613182) "
      ],
      "execution_count": null,
      "outputs": []
    },
    {
      "cell_type": "code",
      "metadata": {
        "id": "qRsA3SjI9c03"
      },
      "source": [
        "train=train.astype(np.float32)"
      ],
      "execution_count": null,
      "outputs": []
    },
    {
      "cell_type": "markdown",
      "metadata": {
        "id": "250SO6fBehWN"
      },
      "source": [
        "# Movielense1M"
      ]
    },
    {
      "cell_type": "code",
      "metadata": {
        "id": "PLij5Fwy7M4u"
      },
      "source": [
        "from keras import layers\n",
        "\n",
        "encoding_dim =20\n",
        "\n",
        "\n",
        "input_img = keras.Input(shape=(3883,))\n",
        "# \"encoded\" is the encoded representation of the input\n",
        "encoded = layers.Dense(encoding_dim, activation='relu')(input_img)\n",
        "# \"decoded\" is the lossy reconstruction of the input\n",
        "decoded = layers.Dense(3883, activation='sigmoid')(encoded)\n",
        "\n",
        "# This model maps an input to its reconstruction\n",
        "autoencoder = keras.Model(input_img, decoded)\n",
        "# This model maps an input to its encoded representation\n",
        "encoder = keras.Model(input_img, encoded)\n",
        "encoded_input = keras.Input(shape=(encoding_dim,))\n",
        "# Retrieve the last layer of the autoencoder model\n",
        "decoder_layer = autoencoder.layers[-1]\n",
        "# Create the decoder model\n",
        "decoder = keras.Model(encoded_input, decoder_layer(encoded_input))\n",
        "autoencoder.compile(optimizer='adam', loss='binary_crossentropy')\n"
      ],
      "execution_count": null,
      "outputs": []
    },
    {
      "cell_type": "markdown",
      "metadata": {
        "id": "Jeb_3KHcetlK"
      },
      "source": [
        "# Molielense 100K"
      ]
    },
    {
      "cell_type": "code",
      "metadata": {
        "id": "86wsUZG_eqMc"
      },
      "source": [
        "from keras import layers\n",
        "\n",
        "# This is the size of our encoded representations\n",
        "encoding_dim =20\n",
        "\n",
        "# This is our input image\n",
        "#input_img = keras.Input(shape=(768,))\n",
        "\n",
        "input_img = keras.Input(shape=(1682,))\n",
        "# \"encoded\" is the encoded representation of the input\n",
        "encoded = layers.Dense(encoding_dim, activation='relu')(input_img)\n",
        "# \"decoded\" is the lossy reconstruction of the input\n",
        "decoded = layers.Dense(1682, activation='sigmoid')(encoded)\n",
        "#decoded = layers.Dense(768, activation='sigmoid')(encoded)\n",
        "\n",
        "# This model maps an input to its reconstruction\n",
        "autoencoder = keras.Model(input_img, decoded)\n",
        "# This model maps an input to its encoded representation\n",
        "encoder = keras.Model(input_img, encoded)\n",
        "# This is our encoded (32-dimensional) input\n",
        "encoded_input = keras.Input(shape=(encoding_dim,))\n",
        "# Retrieve the last layer of the autoencoder model\n",
        "decoder_layer = autoencoder.layers[-1]\n",
        "# Create the decoder model\n",
        "decoder = keras.Model(encoded_input, decoder_layer(encoded_input))\n",
        "autoencoder.compile(optimizer='adam', loss='binary_crossentropy')"
      ],
      "execution_count": null,
      "outputs": []
    },
    {
      "cell_type": "code",
      "metadata": {
        "id": "EwoO-5_K9ftB"
      },
      "source": [
        ""
      ],
      "execution_count": null,
      "outputs": []
    },
    {
      "cell_type": "code",
      "metadata": {
        "id": "g6h6cuW4UJns",
        "colab": {
          "base_uri": "https://localhost:8080/"
        },
        "outputId": "9f94e27b-5257-4031-8f30-e7143396bc49"
      },
      "source": [
        "autoencoder.fit(train,train,\n",
        "                epochs=50,\n",
        "                batch_size=10,\n",
        "                shuffle=True,\n",
        "                validation_data=(test, test))"
      ],
      "execution_count": null,
      "outputs": [
        {
          "output_type": "stream",
          "text": [
            "Epoch 1/50\n",
            "311/311 [==============================] - 2s 6ms/step - loss: 0.4354 - val_loss: 0.0303\n",
            "Epoch 2/50\n",
            "311/311 [==============================] - 1s 5ms/step - loss: 0.0228 - val_loss: 0.0162\n",
            "Epoch 3/50\n",
            "311/311 [==============================] - 1s 4ms/step - loss: 0.0141 - val_loss: 0.0136\n",
            "Epoch 4/50\n",
            "311/311 [==============================] - 1s 4ms/step - loss: 0.0124 - val_loss: 0.0126\n",
            "Epoch 5/50\n",
            "311/311 [==============================] - 1s 4ms/step - loss: 0.0118 - val_loss: 0.0121\n",
            "Epoch 6/50\n",
            "311/311 [==============================] - 1s 4ms/step - loss: 0.0111 - val_loss: 0.0117\n",
            "Epoch 7/50\n",
            "311/311 [==============================] - 1s 4ms/step - loss: 0.0109 - val_loss: 0.0115\n",
            "Epoch 8/50\n",
            "311/311 [==============================] - 1s 4ms/step - loss: 0.0106 - val_loss: 0.0113\n",
            "Epoch 9/50\n",
            "311/311 [==============================] - 1s 4ms/step - loss: 0.0104 - val_loss: 0.0111\n",
            "Epoch 10/50\n",
            "311/311 [==============================] - 1s 4ms/step - loss: 0.0102 - val_loss: 0.0109\n",
            "Epoch 11/50\n",
            "311/311 [==============================] - 1s 5ms/step - loss: 0.0100 - val_loss: 0.0108\n",
            "Epoch 12/50\n",
            "311/311 [==============================] - 1s 4ms/step - loss: 0.0099 - val_loss: 0.0106\n",
            "Epoch 13/50\n",
            "311/311 [==============================] - 1s 4ms/step - loss: 0.0098 - val_loss: 0.0104\n",
            "Epoch 14/50\n",
            "311/311 [==============================] - 1s 5ms/step - loss: 0.0096 - val_loss: 0.0102\n",
            "Epoch 15/50\n",
            "311/311 [==============================] - 1s 4ms/step - loss: 0.0094 - val_loss: 0.0101\n",
            "Epoch 16/50\n",
            "311/311 [==============================] - 1s 5ms/step - loss: 0.0092 - val_loss: 0.0099\n",
            "Epoch 17/50\n",
            "311/311 [==============================] - 1s 4ms/step - loss: 0.0089 - val_loss: 0.0097\n",
            "Epoch 18/50\n",
            "311/311 [==============================] - 1s 5ms/step - loss: 0.0089 - val_loss: 0.0096\n",
            "Epoch 19/50\n",
            "311/311 [==============================] - 1s 5ms/step - loss: 0.0086 - val_loss: 0.0094\n",
            "Epoch 20/50\n",
            "311/311 [==============================] - 1s 4ms/step - loss: 0.0085 - val_loss: 0.0093\n",
            "Epoch 21/50\n",
            "311/311 [==============================] - 1s 4ms/step - loss: 0.0083 - val_loss: 0.0091\n",
            "Epoch 22/50\n",
            "311/311 [==============================] - 1s 4ms/step - loss: 0.0081 - val_loss: 0.0090\n",
            "Epoch 23/50\n",
            "311/311 [==============================] - 1s 4ms/step - loss: 0.0078 - val_loss: 0.0089\n",
            "Epoch 24/50\n",
            "311/311 [==============================] - 1s 4ms/step - loss: 0.0078 - val_loss: 0.0087\n",
            "Epoch 25/50\n",
            "311/311 [==============================] - 1s 4ms/step - loss: 0.0074 - val_loss: 0.0086\n",
            "Epoch 26/50\n",
            "311/311 [==============================] - 1s 5ms/step - loss: 0.0073 - val_loss: 0.0085\n",
            "Epoch 27/50\n",
            "311/311 [==============================] - 1s 5ms/step - loss: 0.0071 - val_loss: 0.0083\n",
            "Epoch 28/50\n",
            "311/311 [==============================] - 1s 4ms/step - loss: 0.0069 - val_loss: 0.0082\n",
            "Epoch 29/50\n",
            "311/311 [==============================] - 1s 5ms/step - loss: 0.0067 - val_loss: 0.0081\n",
            "Epoch 30/50\n",
            "311/311 [==============================] - 1s 4ms/step - loss: 0.0065 - val_loss: 0.0080\n",
            "Epoch 31/50\n",
            "311/311 [==============================] - 1s 4ms/step - loss: 0.0063 - val_loss: 0.0080\n",
            "Epoch 32/50\n",
            "311/311 [==============================] - 1s 5ms/step - loss: 0.0061 - val_loss: 0.0079\n",
            "Epoch 33/50\n",
            "311/311 [==============================] - 1s 4ms/step - loss: 0.0059 - val_loss: 0.0078\n",
            "Epoch 34/50\n",
            "311/311 [==============================] - 1s 4ms/step - loss: 0.0057 - val_loss: 0.0078\n",
            "Epoch 35/50\n",
            "311/311 [==============================] - 1s 4ms/step - loss: 0.0054 - val_loss: 0.0077\n",
            "Epoch 36/50\n",
            "311/311 [==============================] - 1s 4ms/step - loss: 0.0053 - val_loss: 0.0077\n",
            "Epoch 37/50\n",
            "311/311 [==============================] - 1s 4ms/step - loss: 0.0052 - val_loss: 0.0077\n",
            "Epoch 38/50\n",
            "311/311 [==============================] - 1s 4ms/step - loss: 0.0050 - val_loss: 0.0076\n",
            "Epoch 39/50\n",
            "311/311 [==============================] - 1s 5ms/step - loss: 0.0048 - val_loss: 0.0076\n",
            "Epoch 40/50\n",
            "311/311 [==============================] - 1s 4ms/step - loss: 0.0046 - val_loss: 0.0076\n",
            "Epoch 41/50\n",
            "311/311 [==============================] - 1s 5ms/step - loss: 0.0044 - val_loss: 0.0076\n",
            "Epoch 42/50\n",
            "311/311 [==============================] - 1s 4ms/step - loss: 0.0043 - val_loss: 0.0076\n",
            "Epoch 43/50\n",
            "311/311 [==============================] - 1s 4ms/step - loss: 0.0041 - val_loss: 0.0077\n",
            "Epoch 44/50\n",
            "311/311 [==============================] - 1s 4ms/step - loss: 0.0040 - val_loss: 0.0077\n",
            "Epoch 45/50\n",
            "311/311 [==============================] - 1s 4ms/step - loss: 0.0039 - val_loss: 0.0077\n",
            "Epoch 46/50\n",
            "311/311 [==============================] - 1s 4ms/step - loss: 0.0037 - val_loss: 0.0078\n",
            "Epoch 47/50\n",
            "311/311 [==============================] - 1s 4ms/step - loss: 0.0035 - val_loss: 0.0079\n",
            "Epoch 48/50\n",
            "311/311 [==============================] - 1s 4ms/step - loss: 0.0034 - val_loss: 0.0079\n",
            "Epoch 49/50\n",
            "311/311 [==============================] - 1s 4ms/step - loss: 0.0033 - val_loss: 0.0080\n",
            "Epoch 50/50\n",
            "311/311 [==============================] - 1s 4ms/step - loss: 0.0032 - val_loss: 0.0081\n"
          ],
          "name": "stdout"
        },
        {
          "output_type": "execute_result",
          "data": {
            "text/plain": [
              "<tensorflow.python.keras.callbacks.History at 0x7fd5d7c09a50>"
            ]
          },
          "metadata": {
            "tags": []
          },
          "execution_count": 11
        }
      ]
    },
    {
      "cell_type": "code",
      "metadata": {
        "colab": {
          "base_uri": "https://localhost:8080/"
        },
        "id": "9OkkCedbEhZZ",
        "outputId": "ee7c9642-e5af-4dd1-e557-c0fdb60a0039"
      },
      "source": [
        "encoded = encoder.predict(plot_vec)\n",
        "print(encoded.shape)"
      ],
      "execution_count": null,
      "outputs": [
        {
          "output_type": "stream",
          "text": [
            "(3883, 20)\n"
          ],
          "name": "stdout"
        }
      ]
    },
    {
      "cell_type": "code",
      "metadata": {
        "colab": {
          "base_uri": "https://localhost:8080/",
          "height": 17
        },
        "id": "Ycj9kJldNHYs",
        "outputId": "91f8c091-904d-4bee-95be-cfc5e090a7f9"
      },
      "source": [
        "np.save('coun_vectorize_Genre_Title_Director_After_AE_3883_20.npy',encoded)\n",
        "from google.colab import files\n",
        "files.download('coun_vectorize_Genre_Title_Director_After_AE_3883_20.npy')"
      ],
      "execution_count": null,
      "outputs": [
        {
          "output_type": "display_data",
          "data": {
            "application/javascript": [
              "\n",
              "    async function download(id, filename, size) {\n",
              "      if (!google.colab.kernel.accessAllowed) {\n",
              "        return;\n",
              "      }\n",
              "      const div = document.createElement('div');\n",
              "      const label = document.createElement('label');\n",
              "      label.textContent = `Downloading \"${filename}\": `;\n",
              "      div.appendChild(label);\n",
              "      const progress = document.createElement('progress');\n",
              "      progress.max = size;\n",
              "      div.appendChild(progress);\n",
              "      document.body.appendChild(div);\n",
              "\n",
              "      const buffers = [];\n",
              "      let downloaded = 0;\n",
              "\n",
              "      const channel = await google.colab.kernel.comms.open(id);\n",
              "      // Send a message to notify the kernel that we're ready.\n",
              "      channel.send({})\n",
              "\n",
              "      for await (const message of channel.messages) {\n",
              "        // Send a message to notify the kernel that we're ready.\n",
              "        channel.send({})\n",
              "        if (message.buffers) {\n",
              "          for (const buffer of message.buffers) {\n",
              "            buffers.push(buffer);\n",
              "            downloaded += buffer.byteLength;\n",
              "            progress.value = downloaded;\n",
              "          }\n",
              "        }\n",
              "      }\n",
              "      const blob = new Blob(buffers, {type: 'application/binary'});\n",
              "      const a = document.createElement('a');\n",
              "      a.href = window.URL.createObjectURL(blob);\n",
              "      a.download = filename;\n",
              "      div.appendChild(a);\n",
              "      a.click();\n",
              "      div.remove();\n",
              "    }\n",
              "  "
            ],
            "text/plain": [
              "<IPython.core.display.Javascript object>"
            ]
          },
          "metadata": {
            "tags": []
          }
        },
        {
          "output_type": "display_data",
          "data": {
            "application/javascript": [
              "download(\"download_acc1d94f-28fa-412a-9aaa-214f85c17b2e\", \"coun_vectorize_Genre_Title_Director_After_AE_3883_20.npy\", 310768)"
            ],
            "text/plain": [
              "<IPython.core.display.Javascript object>"
            ]
          },
          "metadata": {
            "tags": []
          }
        }
      ]
    },
    {
      "cell_type": "code",
      "metadata": {
        "id": "iNFQe1n99jHo"
      },
      "source": [
        ""
      ],
      "execution_count": null,
      "outputs": []
    },
    {
      "cell_type": "code",
      "metadata": {
        "colab": {
          "base_uri": "https://localhost:8080/"
        },
        "id": "F2oIKJRASO2l",
        "outputId": "a6fa02b1-6f51-4e90-d1fa-868dea62aea1"
      },
      "source": [
        "print(len(encoded))"
      ],
      "execution_count": null,
      "outputs": [
        {
          "output_type": "stream",
          "text": [
            "3883\n"
          ],
          "name": "stdout"
        }
      ]
    },
    {
      "cell_type": "code",
      "metadata": {
        "colab": {
          "base_uri": "https://localhost:8080/"
        },
        "id": "BAIyiyQ4TWED",
        "outputId": "45d46de7-05ea-4121-ab8a-c02ada62c876"
      },
      "source": [
        "print(np.max(encoded))"
      ],
      "execution_count": null,
      "outputs": [
        {
          "output_type": "stream",
          "text": [
            "12.020227\n"
          ],
          "name": "stdout"
        }
      ]
    },
    {
      "cell_type": "code",
      "metadata": {
        "colab": {
          "base_uri": "https://localhost:8080/"
        },
        "id": "BPtIANC2V1tz",
        "outputId": "f6467c43-a1ed-4c6f-d121-42fe58b56afc"
      },
      "source": [
        "for i in range(len(encoded)):\n",
        "  min=10\n",
        "  d12 = distance.euclidean(encoded[1644], encoded[i])\n",
        "  if(d12<3):\n",
        "    print(i,d12)"
      ],
      "execution_count": null,
      "outputs": [
        {
          "output_type": "stream",
          "text": [
            "113 2.5093295574188232\n",
            "410 2.085179328918457\n",
            "483 2.3412725925445557\n",
            "497 2.4278676509857178\n",
            "785 2.970898389816284\n",
            "823 2.1763126850128174\n",
            "942 2.1410748958587646\n",
            "978 2.086597204208374\n",
            "1101 2.3743700981140137\n",
            "1139 2.1331140995025635\n",
            "1183 2.2441911697387695\n",
            "1247 2.1538615226745605\n",
            "1311 2.3846797943115234\n",
            "1403 2.483356475830078\n",
            "1417 1.9256677627563477\n",
            "1483 2.004249334335327\n",
            "1644 0.0\n",
            "1649 0.0\n"
          ],
          "name": "stdout"
        }
      ]
    }
  ]
}